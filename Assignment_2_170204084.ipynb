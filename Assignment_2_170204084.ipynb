{
  "nbformat": 4,
  "nbformat_minor": 0,
  "metadata": {
    "colab": {
      "name": "Assignment_2_170204084.ipynb",
      "provenance": [],
      "collapsed_sections": []
    },
    "kernelspec": {
      "name": "python3",
      "display_name": "Python 3"
    },
    "language_info": {
      "name": "python"
    }
  },
  "cells": [
    {
      "cell_type": "markdown",
      "source": [
        "# Libraries"
      ],
      "metadata": {
        "id": "SHMiFJRmP3S-"
      }
    },
    {
      "cell_type": "code",
      "execution_count": 1,
      "metadata": {
        "id": "QJQFXwKJ7-1T"
      },
      "outputs": [],
      "source": [
        "import numpy as np\n",
        "from numpy import exp, array, random, dot\n",
        "\n",
        "import pandas as pd\n",
        "import tensorflow as tf\n",
        "\n",
        "# plotting\n",
        "import seaborn as sns\n",
        "from wordcloud import WordCloud\n",
        "import matplotlib.pyplot as plt\n",
        "\n",
        "import time\n",
        "\n",
        "import torch\n",
        "from torch import nn\n",
        "from torch.utils.data import DataLoader, Dataset\n",
        "\n",
        "from google.colab import drive\n",
        "from sklearn.feature_extraction.text import CountVectorizer\n",
        "\n",
        "from sklearn.model_selection import train_test_split\n",
        "from sklearn.metrics import accuracy_score\n",
        "from sklearn.metrics import precision_score\n",
        "from sklearn.metrics import recall_score\n",
        "from sklearn.metrics import f1_score\n",
        "from sklearn.metrics import cohen_kappa_score\n",
        "from sklearn.metrics import roc_auc_score\n",
        "from sklearn.metrics import confusion_matrix\n",
        "from sklearn.metrics import classification_report"
      ]
    },
    {
      "cell_type": "markdown",
      "source": [
        "# Loading Dataset"
      ],
      "metadata": {
        "id": "sUHrWrsFP7Em"
      }
    },
    {
      "cell_type": "code",
      "source": [
        "!gdown --id 19kmybD6rh63PHeF2AC7ebxPBDcyZE_fU"
      ],
      "metadata": {
        "colab": {
          "base_uri": "https://localhost:8080/"
        },
        "id": "KcS4zsa89CUR",
        "outputId": "dcc44425-44cf-445c-d8bb-b06d9f31801c"
      },
      "execution_count": 2,
      "outputs": [
        {
          "output_type": "stream",
          "name": "stdout",
          "text": [
            "Downloading...\n",
            "From: https://drive.google.com/uc?id=19kmybD6rh63PHeF2AC7ebxPBDcyZE_fU\n",
            "To: /content/Dataset.csv\n",
            "\r  0% 0.00/480k [00:00<?, ?B/s]\r100% 480k/480k [00:00<00:00, 4.11MB/s]\r100% 480k/480k [00:00<00:00, 4.10MB/s]\n"
          ]
        }
      ]
    },
    {
      "cell_type": "code",
      "source": [
        "df = pd.read_csv(\"/content/Dataset.csv\")\n",
        "df"
      ],
      "metadata": {
        "colab": {
          "base_uri": "https://localhost:8080/",
          "height": 424
        },
        "id": "uZCE1NLQ9VgC",
        "outputId": "58236245-f2dd-4e78-9369-a6a6490ff7fd"
      },
      "execution_count": 3,
      "outputs": [
        {
          "output_type": "execute_result",
          "data": {
            "text/html": [
              "\n",
              "  <div id=\"df-227406b6-96da-41fa-aae0-2f197b8585d4\">\n",
              "    <div class=\"colab-df-container\">\n",
              "      <div>\n",
              "<style scoped>\n",
              "    .dataframe tbody tr th:only-of-type {\n",
              "        vertical-align: middle;\n",
              "    }\n",
              "\n",
              "    .dataframe tbody tr th {\n",
              "        vertical-align: top;\n",
              "    }\n",
              "\n",
              "    .dataframe thead th {\n",
              "        text-align: right;\n",
              "    }\n",
              "</style>\n",
              "<table border=\"1\" class=\"dataframe\">\n",
              "  <thead>\n",
              "    <tr style=\"text-align: right;\">\n",
              "      <th></th>\n",
              "      <th>Text</th>\n",
              "      <th>Sentiment</th>\n",
              "    </tr>\n",
              "  </thead>\n",
              "  <tbody>\n",
              "    <tr>\n",
              "      <th>0</th>\n",
              "      <td>Kickers on my watchlist XIDE TIT SOQ PNK CPW B...</td>\n",
              "      <td>1</td>\n",
              "    </tr>\n",
              "    <tr>\n",
              "      <th>1</th>\n",
              "      <td>user: AAP MOVIE. 55% return for the FEA/GEED i...</td>\n",
              "      <td>1</td>\n",
              "    </tr>\n",
              "    <tr>\n",
              "      <th>2</th>\n",
              "      <td>user I'd be afraid to short AMZN - they are lo...</td>\n",
              "      <td>1</td>\n",
              "    </tr>\n",
              "    <tr>\n",
              "      <th>3</th>\n",
              "      <td>MNTA Over 12.00</td>\n",
              "      <td>1</td>\n",
              "    </tr>\n",
              "    <tr>\n",
              "      <th>4</th>\n",
              "      <td>OI  Over 21.37</td>\n",
              "      <td>1</td>\n",
              "    </tr>\n",
              "    <tr>\n",
              "      <th>...</th>\n",
              "      <td>...</td>\n",
              "      <td>...</td>\n",
              "    </tr>\n",
              "    <tr>\n",
              "      <th>5786</th>\n",
              "      <td>Industry body CII said #discoms are likely to ...</td>\n",
              "      <td>-1</td>\n",
              "    </tr>\n",
              "    <tr>\n",
              "      <th>5787</th>\n",
              "      <td>#Gold prices slip below Rs 46,000 as #investor...</td>\n",
              "      <td>-1</td>\n",
              "    </tr>\n",
              "    <tr>\n",
              "      <th>5788</th>\n",
              "      <td>Workers at Bajaj Auto have agreed to a 10% wag...</td>\n",
              "      <td>1</td>\n",
              "    </tr>\n",
              "    <tr>\n",
              "      <th>5789</th>\n",
              "      <td>#Sharemarket LIVE: Sensex off day’s high, up 6...</td>\n",
              "      <td>1</td>\n",
              "    </tr>\n",
              "    <tr>\n",
              "      <th>5790</th>\n",
              "      <td>#Sensex, #Nifty climb off day's highs, still u...</td>\n",
              "      <td>1</td>\n",
              "    </tr>\n",
              "  </tbody>\n",
              "</table>\n",
              "<p>5791 rows × 2 columns</p>\n",
              "</div>\n",
              "      <button class=\"colab-df-convert\" onclick=\"convertToInteractive('df-227406b6-96da-41fa-aae0-2f197b8585d4')\"\n",
              "              title=\"Convert this dataframe to an interactive table.\"\n",
              "              style=\"display:none;\">\n",
              "        \n",
              "  <svg xmlns=\"http://www.w3.org/2000/svg\" height=\"24px\"viewBox=\"0 0 24 24\"\n",
              "       width=\"24px\">\n",
              "    <path d=\"M0 0h24v24H0V0z\" fill=\"none\"/>\n",
              "    <path d=\"M18.56 5.44l.94 2.06.94-2.06 2.06-.94-2.06-.94-.94-2.06-.94 2.06-2.06.94zm-11 1L8.5 8.5l.94-2.06 2.06-.94-2.06-.94L8.5 2.5l-.94 2.06-2.06.94zm10 10l.94 2.06.94-2.06 2.06-.94-2.06-.94-.94-2.06-.94 2.06-2.06.94z\"/><path d=\"M17.41 7.96l-1.37-1.37c-.4-.4-.92-.59-1.43-.59-.52 0-1.04.2-1.43.59L10.3 9.45l-7.72 7.72c-.78.78-.78 2.05 0 2.83L4 21.41c.39.39.9.59 1.41.59.51 0 1.02-.2 1.41-.59l7.78-7.78 2.81-2.81c.8-.78.8-2.07 0-2.86zM5.41 20L4 18.59l7.72-7.72 1.47 1.35L5.41 20z\"/>\n",
              "  </svg>\n",
              "      </button>\n",
              "      \n",
              "  <style>\n",
              "    .colab-df-container {\n",
              "      display:flex;\n",
              "      flex-wrap:wrap;\n",
              "      gap: 12px;\n",
              "    }\n",
              "\n",
              "    .colab-df-convert {\n",
              "      background-color: #E8F0FE;\n",
              "      border: none;\n",
              "      border-radius: 50%;\n",
              "      cursor: pointer;\n",
              "      display: none;\n",
              "      fill: #1967D2;\n",
              "      height: 32px;\n",
              "      padding: 0 0 0 0;\n",
              "      width: 32px;\n",
              "    }\n",
              "\n",
              "    .colab-df-convert:hover {\n",
              "      background-color: #E2EBFA;\n",
              "      box-shadow: 0px 1px 2px rgba(60, 64, 67, 0.3), 0px 1px 3px 1px rgba(60, 64, 67, 0.15);\n",
              "      fill: #174EA6;\n",
              "    }\n",
              "\n",
              "    [theme=dark] .colab-df-convert {\n",
              "      background-color: #3B4455;\n",
              "      fill: #D2E3FC;\n",
              "    }\n",
              "\n",
              "    [theme=dark] .colab-df-convert:hover {\n",
              "      background-color: #434B5C;\n",
              "      box-shadow: 0px 1px 3px 1px rgba(0, 0, 0, 0.15);\n",
              "      filter: drop-shadow(0px 1px 2px rgba(0, 0, 0, 0.3));\n",
              "      fill: #FFFFFF;\n",
              "    }\n",
              "  </style>\n",
              "\n",
              "      <script>\n",
              "        const buttonEl =\n",
              "          document.querySelector('#df-227406b6-96da-41fa-aae0-2f197b8585d4 button.colab-df-convert');\n",
              "        buttonEl.style.display =\n",
              "          google.colab.kernel.accessAllowed ? 'block' : 'none';\n",
              "\n",
              "        async function convertToInteractive(key) {\n",
              "          const element = document.querySelector('#df-227406b6-96da-41fa-aae0-2f197b8585d4');\n",
              "          const dataTable =\n",
              "            await google.colab.kernel.invokeFunction('convertToInteractive',\n",
              "                                                     [key], {});\n",
              "          if (!dataTable) return;\n",
              "\n",
              "          const docLinkHtml = 'Like what you see? Visit the ' +\n",
              "            '<a target=\"_blank\" href=https://colab.research.google.com/notebooks/data_table.ipynb>data table notebook</a>'\n",
              "            + ' to learn more about interactive tables.';\n",
              "          element.innerHTML = '';\n",
              "          dataTable['output_type'] = 'display_data';\n",
              "          await google.colab.output.renderOutput(dataTable, element);\n",
              "          const docLink = document.createElement('div');\n",
              "          docLink.innerHTML = docLinkHtml;\n",
              "          element.appendChild(docLink);\n",
              "        }\n",
              "      </script>\n",
              "    </div>\n",
              "  </div>\n",
              "  "
            ],
            "text/plain": [
              "                                                   Text  Sentiment\n",
              "0     Kickers on my watchlist XIDE TIT SOQ PNK CPW B...          1\n",
              "1     user: AAP MOVIE. 55% return for the FEA/GEED i...          1\n",
              "2     user I'd be afraid to short AMZN - they are lo...          1\n",
              "3                                     MNTA Over 12.00            1\n",
              "4                                      OI  Over 21.37            1\n",
              "...                                                 ...        ...\n",
              "5786  Industry body CII said #discoms are likely to ...         -1\n",
              "5787  #Gold prices slip below Rs 46,000 as #investor...         -1\n",
              "5788  Workers at Bajaj Auto have agreed to a 10% wag...          1\n",
              "5789  #Sharemarket LIVE: Sensex off day’s high, up 6...          1\n",
              "5790  #Sensex, #Nifty climb off day's highs, still u...          1\n",
              "\n",
              "[5791 rows x 2 columns]"
            ]
          },
          "metadata": {},
          "execution_count": 3
        }
      ]
    },
    {
      "cell_type": "markdown",
      "source": [
        "# Data visualization"
      ],
      "metadata": {
        "id": "oNJmwTnjQM5P"
      }
    },
    {
      "cell_type": "code",
      "source": [
        "df['Sentiment'].unique()"
      ],
      "metadata": {
        "colab": {
          "base_uri": "https://localhost:8080/"
        },
        "id": "d8AOhu8SQsZp",
        "outputId": "82abf794-65b3-4a03-e62c-645cd9824060"
      },
      "execution_count": 4,
      "outputs": [
        {
          "output_type": "execute_result",
          "data": {
            "text/plain": [
              "array([ 1, -1])"
            ]
          },
          "metadata": {},
          "execution_count": 4
        }
      ]
    },
    {
      "cell_type": "code",
      "source": [
        "df.describe()"
      ],
      "metadata": {
        "colab": {
          "base_uri": "https://localhost:8080/",
          "height": 300
        },
        "id": "4wiR1fcX-EPg",
        "outputId": "eacf47c2-f1b8-48e1-e754-17e12b0ec5d7"
      },
      "execution_count": 5,
      "outputs": [
        {
          "output_type": "execute_result",
          "data": {
            "text/html": [
              "\n",
              "  <div id=\"df-21bcab20-5789-4575-85c8-241f4bddfaef\">\n",
              "    <div class=\"colab-df-container\">\n",
              "      <div>\n",
              "<style scoped>\n",
              "    .dataframe tbody tr th:only-of-type {\n",
              "        vertical-align: middle;\n",
              "    }\n",
              "\n",
              "    .dataframe tbody tr th {\n",
              "        vertical-align: top;\n",
              "    }\n",
              "\n",
              "    .dataframe thead th {\n",
              "        text-align: right;\n",
              "    }\n",
              "</style>\n",
              "<table border=\"1\" class=\"dataframe\">\n",
              "  <thead>\n",
              "    <tr style=\"text-align: right;\">\n",
              "      <th></th>\n",
              "      <th>Sentiment</th>\n",
              "    </tr>\n",
              "  </thead>\n",
              "  <tbody>\n",
              "    <tr>\n",
              "      <th>count</th>\n",
              "      <td>5791.000000</td>\n",
              "    </tr>\n",
              "    <tr>\n",
              "      <th>mean</th>\n",
              "      <td>0.272664</td>\n",
              "    </tr>\n",
              "    <tr>\n",
              "      <th>std</th>\n",
              "      <td>0.962192</td>\n",
              "    </tr>\n",
              "    <tr>\n",
              "      <th>min</th>\n",
              "      <td>-1.000000</td>\n",
              "    </tr>\n",
              "    <tr>\n",
              "      <th>25%</th>\n",
              "      <td>-1.000000</td>\n",
              "    </tr>\n",
              "    <tr>\n",
              "      <th>50%</th>\n",
              "      <td>1.000000</td>\n",
              "    </tr>\n",
              "    <tr>\n",
              "      <th>75%</th>\n",
              "      <td>1.000000</td>\n",
              "    </tr>\n",
              "    <tr>\n",
              "      <th>max</th>\n",
              "      <td>1.000000</td>\n",
              "    </tr>\n",
              "  </tbody>\n",
              "</table>\n",
              "</div>\n",
              "      <button class=\"colab-df-convert\" onclick=\"convertToInteractive('df-21bcab20-5789-4575-85c8-241f4bddfaef')\"\n",
              "              title=\"Convert this dataframe to an interactive table.\"\n",
              "              style=\"display:none;\">\n",
              "        \n",
              "  <svg xmlns=\"http://www.w3.org/2000/svg\" height=\"24px\"viewBox=\"0 0 24 24\"\n",
              "       width=\"24px\">\n",
              "    <path d=\"M0 0h24v24H0V0z\" fill=\"none\"/>\n",
              "    <path d=\"M18.56 5.44l.94 2.06.94-2.06 2.06-.94-2.06-.94-.94-2.06-.94 2.06-2.06.94zm-11 1L8.5 8.5l.94-2.06 2.06-.94-2.06-.94L8.5 2.5l-.94 2.06-2.06.94zm10 10l.94 2.06.94-2.06 2.06-.94-2.06-.94-.94-2.06-.94 2.06-2.06.94z\"/><path d=\"M17.41 7.96l-1.37-1.37c-.4-.4-.92-.59-1.43-.59-.52 0-1.04.2-1.43.59L10.3 9.45l-7.72 7.72c-.78.78-.78 2.05 0 2.83L4 21.41c.39.39.9.59 1.41.59.51 0 1.02-.2 1.41-.59l7.78-7.78 2.81-2.81c.8-.78.8-2.07 0-2.86zM5.41 20L4 18.59l7.72-7.72 1.47 1.35L5.41 20z\"/>\n",
              "  </svg>\n",
              "      </button>\n",
              "      \n",
              "  <style>\n",
              "    .colab-df-container {\n",
              "      display:flex;\n",
              "      flex-wrap:wrap;\n",
              "      gap: 12px;\n",
              "    }\n",
              "\n",
              "    .colab-df-convert {\n",
              "      background-color: #E8F0FE;\n",
              "      border: none;\n",
              "      border-radius: 50%;\n",
              "      cursor: pointer;\n",
              "      display: none;\n",
              "      fill: #1967D2;\n",
              "      height: 32px;\n",
              "      padding: 0 0 0 0;\n",
              "      width: 32px;\n",
              "    }\n",
              "\n",
              "    .colab-df-convert:hover {\n",
              "      background-color: #E2EBFA;\n",
              "      box-shadow: 0px 1px 2px rgba(60, 64, 67, 0.3), 0px 1px 3px 1px rgba(60, 64, 67, 0.15);\n",
              "      fill: #174EA6;\n",
              "    }\n",
              "\n",
              "    [theme=dark] .colab-df-convert {\n",
              "      background-color: #3B4455;\n",
              "      fill: #D2E3FC;\n",
              "    }\n",
              "\n",
              "    [theme=dark] .colab-df-convert:hover {\n",
              "      background-color: #434B5C;\n",
              "      box-shadow: 0px 1px 3px 1px rgba(0, 0, 0, 0.15);\n",
              "      filter: drop-shadow(0px 1px 2px rgba(0, 0, 0, 0.3));\n",
              "      fill: #FFFFFF;\n",
              "    }\n",
              "  </style>\n",
              "\n",
              "      <script>\n",
              "        const buttonEl =\n",
              "          document.querySelector('#df-21bcab20-5789-4575-85c8-241f4bddfaef button.colab-df-convert');\n",
              "        buttonEl.style.display =\n",
              "          google.colab.kernel.accessAllowed ? 'block' : 'none';\n",
              "\n",
              "        async function convertToInteractive(key) {\n",
              "          const element = document.querySelector('#df-21bcab20-5789-4575-85c8-241f4bddfaef');\n",
              "          const dataTable =\n",
              "            await google.colab.kernel.invokeFunction('convertToInteractive',\n",
              "                                                     [key], {});\n",
              "          if (!dataTable) return;\n",
              "\n",
              "          const docLinkHtml = 'Like what you see? Visit the ' +\n",
              "            '<a target=\"_blank\" href=https://colab.research.google.com/notebooks/data_table.ipynb>data table notebook</a>'\n",
              "            + ' to learn more about interactive tables.';\n",
              "          element.innerHTML = '';\n",
              "          dataTable['output_type'] = 'display_data';\n",
              "          await google.colab.output.renderOutput(dataTable, element);\n",
              "          const docLink = document.createElement('div');\n",
              "          docLink.innerHTML = docLinkHtml;\n",
              "          element.appendChild(docLink);\n",
              "        }\n",
              "      </script>\n",
              "    </div>\n",
              "  </div>\n",
              "  "
            ],
            "text/plain": [
              "         Sentiment\n",
              "count  5791.000000\n",
              "mean      0.272664\n",
              "std       0.962192\n",
              "min      -1.000000\n",
              "25%      -1.000000\n",
              "50%       1.000000\n",
              "75%       1.000000\n",
              "max       1.000000"
            ]
          },
          "metadata": {},
          "execution_count": 5
        }
      ]
    },
    {
      "cell_type": "code",
      "source": [
        "# check the number of positive vs. negative tagged sentences\n",
        "\n",
        "#df['Sentiment'].value_counts()\n",
        "\n",
        "positives = df['Sentiment'][df.Sentiment == 1 ]\n",
        "negatives = df['Sentiment'][df.Sentiment == -1 ]\n",
        "\n",
        "print('Total length of the data is:         {}'.format(df.shape[0]))\n",
        "print('No. of positve tagged sentences is:  {}'.format(len(positives)))\n",
        "print('No. of negative tagged sentences is: {}'.format(len(negatives)))"
      ],
      "metadata": {
        "colab": {
          "base_uri": "https://localhost:8080/"
        },
        "id": "YtUWL8DC-LpK",
        "outputId": "8d24bd55-747d-4deb-fd9b-e882bb96af75"
      },
      "execution_count": 6,
      "outputs": [
        {
          "output_type": "stream",
          "name": "stdout",
          "text": [
            "Total length of the data is:         5791\n",
            "No. of positve tagged sentences is:  3685\n",
            "No. of negative tagged sentences is: 2106\n"
          ]
        }
      ]
    },
    {
      "cell_type": "code",
      "source": [
        "sns.countplot(df['Sentiment'])"
      ],
      "metadata": {
        "colab": {
          "base_uri": "https://localhost:8080/",
          "height": 354
        },
        "id": "-8xMHizL-pAQ",
        "outputId": "1de2da7d-4dcf-4906-980b-6289dd949e03"
      },
      "execution_count": 7,
      "outputs": [
        {
          "output_type": "stream",
          "name": "stderr",
          "text": [
            "/usr/local/lib/python3.7/dist-packages/seaborn/_decorators.py:43: FutureWarning: Pass the following variable as a keyword arg: x. From version 0.12, the only valid positional argument will be `data`, and passing other arguments without an explicit keyword will result in an error or misinterpretation.\n",
            "  FutureWarning\n"
          ]
        },
        {
          "output_type": "execute_result",
          "data": {
            "text/plain": [
              "<matplotlib.axes._subplots.AxesSubplot at 0x7f2c2c6a71d0>"
            ]
          },
          "metadata": {},
          "execution_count": 7
        },
        {
          "output_type": "display_data",
          "data": {
            "image/png": "[encoded data removed]",
            "text/plain": [
              "<Figure size 432x288 with 1 Axes>"
            ]
          },
          "metadata": {
            "needs_background": "light"
          }
        }
      ]
    },
    {
      "cell_type": "code",
      "source": [
        "# get a word count per of text\n",
        "def word_count(words):\n",
        "    return len(words.split())"
      ],
      "metadata": {
        "id": "Z4RsYvKOS0sc"
      },
      "execution_count": 8,
      "outputs": []
    },
    {
      "cell_type": "code",
      "source": [
        "from nltk.stem.porter import PorterStemmer\n",
        "from nltk import word_tokenize, WordNetLemmatizer\n",
        "import nltk\n",
        "import re \n",
        "import string\n",
        "import pickle\n",
        "nltk.download('wordnet')\n",
        "nltk.download('stopwords')\n",
        "nltk.download('punkt')"
      ],
      "metadata": {
        "colab": {
          "base_uri": "https://localhost:8080/"
        },
        "id": "GxtXI7kd_1KY",
        "outputId": "9d6cb577-ffc4-4c21-ddd5-82e823164f1c"
      },
      "execution_count": 9,
      "outputs": [
        {
          "output_type": "stream",
          "name": "stdout",
          "text": [
            "[nltk_data] Downloading package wordnet to /root/nltk_data...\n",
            "[nltk_data]   Unzipping corpora/wordnet.zip.\n",
            "[nltk_data] Downloading package stopwords to /root/nltk_data...\n",
            "[nltk_data]   Unzipping corpora/stopwords.zip.\n",
            "[nltk_data] Downloading package punkt to /root/nltk_data...\n",
            "[nltk_data]   Unzipping tokenizers/punkt.zip.\n"
          ]
        },
        {
          "output_type": "execute_result",
          "data": {
            "text/plain": [
              "True"
            ]
          },
          "metadata": {},
          "execution_count": 9
        }
      ]
    },
    {
      "cell_type": "code",
      "source": [
        "from nltk.corpus import stopwords\n",
        "stop_words=set(stopwords.words('english'))\n",
        "print(stop_words)\n"
      ],
      "metadata": {
        "colab": {
          "base_uri": "https://localhost:8080/"
        },
        "id": "BNmEfFN0Oy4u",
        "outputId": "f51cb148-f01e-45fa-a412-763844ebd388"
      },
      "execution_count": 10,
      "outputs": [
        {
          "output_type": "stream",
          "name": "stdout",
          "text": [
            "{'be', 'about', \"you're\", 'himself', \"needn't\", 'doesn', 'm', \"doesn't\", 'hadn', 'hers', \"shan't\", 'you', \"haven't\", \"aren't\", 'been', 'has', 'were', 'yours', 'on', 't', 'shouldn', 'isn', 'should', 'haven', 'had', \"hasn't\", 'mightn', 'him', 'then', 'they', 'at', \"wouldn't\", 'don', 'itself', 'an', 'as', 'against', 'no', 'will', 'his', 'than', 're', 'from', 'your', 'before', 'y', 'do', 'needn', 'aren', 'which', 'with', \"it's\", 'am', 'i', 'our', 'what', \"don't\", 'ma', 'below', 'up', 've', 'having', 'off', 'through', \"isn't\", 'or', \"mustn't\", \"you'll\", 'if', 'ourselves', \"shouldn't\", \"couldn't\", 'is', 'he', 'o', 'further', 'between', 'own', 'we', 'few', 'each', 'over', \"weren't\", 'while', 'to', 'why', 'very', 'here', 'myself', \"hadn't\", 'she', \"you've\", 'above', 'once', \"wasn't\", 'how', 'd', 'll', 'because', 'my', \"she's\", 'into', 'can', 'won', 'themselves', 'where', 'out', 'same', 'that', 'a', 'are', 'it', 'during', 'all', 'nor', 'when', 'shan', 'ours', 'me', 'didn', 'whom', 'mustn', 'theirs', 'wasn', 'them', 'those', 'not', 'now', 'down', 'her', 'such', 'until', 'weren', 'some', \"didn't\", \"that'll\", \"should've\", 'for', 'these', 'again', 'only', 'of', 'just', 'herself', 'does', 'being', 'who', 'more', 'ain', 'their', 'did', 'under', \"you'd\", 'its', 'any', 'have', 'hasn', 'so', 'yourselves', 'was', 'this', 'doing', 'most', 'but', 'there', 'both', 'in', 's', 'other', \"won't\", 'couldn', 'by', 'too', 'and', 'after', 'the', 'yourself', \"mightn't\", 'wouldn'}\n"
          ]
        }
      ]
    },
    {
      "cell_type": "code",
      "source": [
        "word_list = list()\n",
        "for i in range(len(df)):\n",
        "    li = df.Text[i].split()\n",
        "    for k in li:\n",
        "        word_list.append(k)"
      ],
      "metadata": {
        "id": "wvZgm8lsX6Vd"
      },
      "execution_count": 11,
      "outputs": []
    },
    {
      "cell_type": "code",
      "source": [
        "from collections import Counter \n",
        "wordCounter = Counter(word_list)\n",
        "countedWordDict = dict(wordCounter)\n",
        "sortedWordDict = sorted(countedWordDict.items(),key = lambda x : x[1],reverse=True)\n",
        "sortedWordDict[0:20]"
      ],
      "metadata": {
        "colab": {
          "base_uri": "https://localhost:8080/"
        },
        "id": "Z2gNInCVYRWE",
        "outputId": "40008c6c-8182-48bb-cc9e-6455403ed811"
      },
      "execution_count": 12,
      "outputs": [
        {
          "output_type": "execute_result",
          "data": {
            "text/plain": [
              "[('the', 1796),\n",
              " ('to', 1668),\n",
              " ('a', 1280),\n",
              " ('on', 1032),\n",
              " ('of', 944),\n",
              " ('in', 891),\n",
              " ('AAP', 884),\n",
              " ('for', 868),\n",
              " ('and', 850),\n",
              " ('is', 811),\n",
              " ('-', 728),\n",
              " ('at', 541),\n",
              " ('this', 461),\n",
              " ('it', 454),\n",
              " ('I', 453),\n",
              " ('up', 357),\n",
              " ('user:', 340),\n",
              " ('from', 331),\n",
              " ('will', 330),\n",
              " ('be', 324)]"
            ]
          },
          "metadata": {},
          "execution_count": 12
        }
      ]
    },
    {
      "cell_type": "markdown",
      "source": [
        "# Data Processing"
      ],
      "metadata": {
        "id": "H_LzksshTonY"
      }
    },
    {
      "cell_type": "code",
      "source": [
        "seed = 170204067\n",
        "torch.manual_seed(seed)"
      ],
      "metadata": {
        "colab": {
          "base_uri": "https://localhost:8080/"
        },
        "id": "mRp021h6XnK1",
        "outputId": "a00076a4-fad4-447c-a0e6-abfba84c819c"
      },
      "execution_count": 13,
      "outputs": [
        {
          "output_type": "execute_result",
          "data": {
            "text/plain": [
              "<torch._C.Generator at 0x7f2ab7b4c510>"
            ]
          },
          "metadata": {},
          "execution_count": 13
        }
      ]
    },
    {
      "cell_type": "code",
      "source": [
        "df[\"Sentiment\"] = df[\"Sentiment\"].replace(-1,0)\n",
        "df[\"Sentiment\"].value_counts()"
      ],
      "metadata": {
        "colab": {
          "base_uri": "https://localhost:8080/"
        },
        "id": "xgSwGmtMXsaE",
        "outputId": "029528ab-0e7a-4732-b3bf-3952fa9c5b5a"
      },
      "execution_count": 14,
      "outputs": [
        {
          "output_type": "execute_result",
          "data": {
            "text/plain": [
              "1    3685\n",
              "0    2106\n",
              "Name: Sentiment, dtype: int64"
            ]
          },
          "metadata": {},
          "execution_count": 14
        }
      ]
    },
    {
      "cell_type": "code",
      "source": [
        "#Checking if any null values present\n",
        "(df.isnull().sum() / len(df))*100"
      ],
      "metadata": {
        "colab": {
          "base_uri": "https://localhost:8080/"
        },
        "id": "acrcdE-HT8Bn",
        "outputId": "eebd79b8-e77c-49fb-9496-528953e4c7e3"
      },
      "execution_count": 15,
      "outputs": [
        {
          "output_type": "execute_result",
          "data": {
            "text/plain": [
              "Text         0.0\n",
              "Sentiment    0.0\n",
              "dtype: float64"
            ]
          },
          "metadata": {},
          "execution_count": 15
        }
      ]
    },
    {
      "cell_type": "code",
      "source": [
        "ps = PorterStemmer()\n",
        "lemma = WordNetLemmatizer()\n",
        "stopwordSet = set(stopwords.words(\"english\"))"
      ],
      "metadata": {
        "id": "cCv09jcdYkLW"
      },
      "execution_count": 16,
      "outputs": []
    },
    {
      "cell_type": "markdown",
      "metadata": {
        "id": "military-invitation",
        "papermill": {
          "duration": 0.044543,
          "end_time": "2021-04-17T08:41:55.779883",
          "exception": false,
          "start_time": "2021-04-17T08:41:55.735340",
          "status": "completed"
        },
        "tags": []
      },
      "source": [
        "> The Preprocessing steps taken are:\n",
        "\n",
        "* Lower Casing: Each text is converted to lowercase.\n",
        "* Removing URLs: Links starting with \"http\" or \"https\" or \"www\" are replaced by \"\".\n",
        "\n",
        "* Removing Usernames: Replace @Usernames with word \"\". (eg: \"@XYZ\" to \"\")\n",
        "* Removing Short Words: Words with length less than 2 are removed.\n",
        "* Removing Stopwords: Stopwords are the English words which does not add much meaning to a sentence. They can safely be ignored without sacrificing the meaning of the sentence. (eg: \"the\", \"he\", \"have\")\n",
        "* Lemmatizing: Lemmatization is the process of converting a word to its base form. (e.g: “wolves” to “wolf”)"
      ]
    },
    {
      "cell_type": "code",
      "source": [
        "\n",
        "urlPattern = r\"((http://)[^ ]*|(https://)[^ ]*|( www\\.)[^ ]*)\"\n",
        "userPattern = '@[^\\s]+'\n",
        "def process_text(text):\n",
        "  # Lower Casing\n",
        "    text = text.lower()\n",
        "    text=text[1:]\n",
        "    # Removing all URls \n",
        "    text = re.sub(urlPattern,'',text)\n",
        "    # Removing all @username.\n",
        "    text = re.sub(userPattern,'',text) \n",
        "    #Remove punctuations\n",
        "    text = text.translate(str.maketrans(\"\",\"\",string.punctuation))\n",
        "    #tokenizing words\n",
        "    tokens = word_tokenize(text)\n",
        "    #Removing Stop Words\n",
        "    final_tokens = [w for w in tokens if w not in stopwordSet]\n",
        "    #reducing a word to its word stem \n",
        "    wordLemm = WordNetLemmatizer()\n",
        "    finalwords=[]\n",
        "    for w in final_tokens:\n",
        "      if len(w)>1:\n",
        "        word = wordLemm.lemmatize(w)\n",
        "        finalwords.append(word)\n",
        "    return ' '.join(finalwords)   "
      ],
      "metadata": {
        "id": "iArwDhlSYysL"
      },
      "execution_count": 17,
      "outputs": []
    },
    {
      "cell_type": "code",
      "source": [
        "df['processed_text'] = df['Text'].apply(lambda x: process_text(x))\n",
        "print('Text Preprocessing complete.')"
      ],
      "metadata": {
        "colab": {
          "base_uri": "https://localhost:8080/"
        },
        "id": "pPQ6neeKYFR_",
        "outputId": "2df95969-92d3-4914-a3f6-91395c7e4850"
      },
      "execution_count": 18,
      "outputs": [
        {
          "output_type": "stream",
          "name": "stdout",
          "text": [
            "Text Preprocessing complete.\n"
          ]
        }
      ]
    },
    {
      "cell_type": "code",
      "source": [
        "print(df.shape)\n",
        "df"
      ],
      "metadata": {
        "colab": {
          "base_uri": "https://localhost:8080/",
          "height": 442
        },
        "id": "bFuchKvQeeqd",
        "outputId": "8b838780-41d6-43e6-80d2-3315a5e380b7"
      },
      "execution_count": 19,
      "outputs": [
        {
          "output_type": "stream",
          "name": "stdout",
          "text": [
            "(5791, 3)\n"
          ]
        },
        {
          "output_type": "execute_result",
          "data": {
            "text/html": [
              "\n",
              "  <div id=\"df-4d362270-2b05-4908-83fd-6eb63117e68b\">\n",
              "    <div class=\"colab-df-container\">\n",
              "      <div>\n",
              "<style scoped>\n",
              "    .dataframe tbody tr th:only-of-type {\n",
              "        vertical-align: middle;\n",
              "    }\n",
              "\n",
              "    .dataframe tbody tr th {\n",
              "        vertical-align: top;\n",
              "    }\n",
              "\n",
              "    .dataframe thead th {\n",
              "        text-align: right;\n",
              "    }\n",
              "</style>\n",
              "<table border=\"1\" class=\"dataframe\">\n",
              "  <thead>\n",
              "    <tr style=\"text-align: right;\">\n",
              "      <th></th>\n",
              "      <th>Text</th>\n",
              "      <th>Sentiment</th>\n",
              "      <th>processed_text</th>\n",
              "    </tr>\n",
              "  </thead>\n",
              "  <tbody>\n",
              "    <tr>\n",
              "      <th>0</th>\n",
              "      <td>Kickers on my watchlist XIDE TIT SOQ PNK CPW B...</td>\n",
              "      <td>1</td>\n",
              "      <td>ickers watchlist xide tit soq pnk cpw bpz aj t...</td>\n",
              "    </tr>\n",
              "    <tr>\n",
              "      <th>1</th>\n",
              "      <td>user: AAP MOVIE. 55% return for the FEA/GEED i...</td>\n",
              "      <td>1</td>\n",
              "      <td>ser aap movie 55 return feageed indicator 15 t...</td>\n",
              "    </tr>\n",
              "    <tr>\n",
              "      <th>2</th>\n",
              "      <td>user I'd be afraid to short AMZN - they are lo...</td>\n",
              "      <td>1</td>\n",
              "      <td>ser id afraid short amzn looking like nearmono...</td>\n",
              "    </tr>\n",
              "    <tr>\n",
              "      <th>3</th>\n",
              "      <td>MNTA Over 12.00</td>\n",
              "      <td>1</td>\n",
              "      <td>nta 1200</td>\n",
              "    </tr>\n",
              "    <tr>\n",
              "      <th>4</th>\n",
              "      <td>OI  Over 21.37</td>\n",
              "      <td>1</td>\n",
              "      <td>2137</td>\n",
              "    </tr>\n",
              "    <tr>\n",
              "      <th>...</th>\n",
              "      <td>...</td>\n",
              "      <td>...</td>\n",
              "      <td>...</td>\n",
              "    </tr>\n",
              "    <tr>\n",
              "      <th>5786</th>\n",
              "      <td>Industry body CII said #discoms are likely to ...</td>\n",
              "      <td>0</td>\n",
              "      <td>ndustry body cii said discoms likely suffer ne...</td>\n",
              "    </tr>\n",
              "    <tr>\n",
              "      <th>5787</th>\n",
              "      <td>#Gold prices slip below Rs 46,000 as #investor...</td>\n",
              "      <td>0</td>\n",
              "      <td>gold price slip r 46000 investor book profit a...</td>\n",
              "    </tr>\n",
              "    <tr>\n",
              "      <th>5788</th>\n",
              "      <td>Workers at Bajaj Auto have agreed to a 10% wag...</td>\n",
              "      <td>1</td>\n",
              "      <td>orkers bajaj auto agreed 10 wage cut period ap...</td>\n",
              "    </tr>\n",
              "    <tr>\n",
              "      <th>5789</th>\n",
              "      <td>#Sharemarket LIVE: Sensex off day’s high, up 6...</td>\n",
              "      <td>1</td>\n",
              "      <td>sharemarket live sensex day high 600 point nif...</td>\n",
              "    </tr>\n",
              "    <tr>\n",
              "      <th>5790</th>\n",
              "      <td>#Sensex, #Nifty climb off day's highs, still u...</td>\n",
              "      <td>1</td>\n",
              "      <td>sensex nifty climb day high still key factor d...</td>\n",
              "    </tr>\n",
              "  </tbody>\n",
              "</table>\n",
              "<p>5791 rows × 3 columns</p>\n",
              "</div>\n",
              "      <button class=\"colab-df-convert\" onclick=\"convertToInteractive('df-4d362270-2b05-4908-83fd-6eb63117e68b')\"\n",
              "              title=\"Convert this dataframe to an interactive table.\"\n",
              "              style=\"display:none;\">\n",
              "        \n",
              "  <svg xmlns=\"http://www.w3.org/2000/svg\" height=\"24px\"viewBox=\"0 0 24 24\"\n",
              "       width=\"24px\">\n",
              "    <path d=\"M0 0h24v24H0V0z\" fill=\"none\"/>\n",
              "    <path d=\"M18.56 5.44l.94 2.06.94-2.06 2.06-.94-2.06-.94-.94-2.06-.94 2.06-2.06.94zm-11 1L8.5 8.5l.94-2.06 2.06-.94-2.06-.94L8.5 2.5l-.94 2.06-2.06.94zm10 10l.94 2.06.94-2.06 2.06-.94-2.06-.94-.94-2.06-.94 2.06-2.06.94z\"/><path d=\"M17.41 7.96l-1.37-1.37c-.4-.4-.92-.59-1.43-.59-.52 0-1.04.2-1.43.59L10.3 9.45l-7.72 7.72c-.78.78-.78 2.05 0 2.83L4 21.41c.39.39.9.59 1.41.59.51 0 1.02-.2 1.41-.59l7.78-7.78 2.81-2.81c.8-.78.8-2.07 0-2.86zM5.41 20L4 18.59l7.72-7.72 1.47 1.35L5.41 20z\"/>\n",
              "  </svg>\n",
              "      </button>\n",
              "      \n",
              "  <style>\n",
              "    .colab-df-container {\n",
              "      display:flex;\n",
              "      flex-wrap:wrap;\n",
              "      gap: 12px;\n",
              "    }\n",
              "\n",
              "    .colab-df-convert {\n",
              "      background-color: #E8F0FE;\n",
              "      border: none;\n",
              "      border-radius: 50%;\n",
              "      cursor: pointer;\n",
              "      display: none;\n",
              "      fill: #1967D2;\n",
              "      height: 32px;\n",
              "      padding: 0 0 0 0;\n",
              "      width: 32px;\n",
              "    }\n",
              "\n",
              "    .colab-df-convert:hover {\n",
              "      background-color: #E2EBFA;\n",
              "      box-shadow: 0px 1px 2px rgba(60, 64, 67, 0.3), 0px 1px 3px 1px rgba(60, 64, 67, 0.15);\n",
              "      fill: #174EA6;\n",
              "    }\n",
              "\n",
              "    [theme=dark] .colab-df-convert {\n",
              "      background-color: #3B4455;\n",
              "      fill: #D2E3FC;\n",
              "    }\n",
              "\n",
              "    [theme=dark] .colab-df-convert:hover {\n",
              "      background-color: #434B5C;\n",
              "      box-shadow: 0px 1px 3px 1px rgba(0, 0, 0, 0.15);\n",
              "      filter: drop-shadow(0px 1px 2px rgba(0, 0, 0, 0.3));\n",
              "      fill: #FFFFFF;\n",
              "    }\n",
              "  </style>\n",
              "\n",
              "      <script>\n",
              "        const buttonEl =\n",
              "          document.querySelector('#df-4d362270-2b05-4908-83fd-6eb63117e68b button.colab-df-convert');\n",
              "        buttonEl.style.display =\n",
              "          google.colab.kernel.accessAllowed ? 'block' : 'none';\n",
              "\n",
              "        async function convertToInteractive(key) {\n",
              "          const element = document.querySelector('#df-4d362270-2b05-4908-83fd-6eb63117e68b');\n",
              "          const dataTable =\n",
              "            await google.colab.kernel.invokeFunction('convertToInteractive',\n",
              "                                                     [key], {});\n",
              "          if (!dataTable) return;\n",
              "\n",
              "          const docLinkHtml = 'Like what you see? Visit the ' +\n",
              "            '<a target=\"_blank\" href=https://colab.research.google.com/notebooks/data_table.ipynb>data table notebook</a>'\n",
              "            + ' to learn more about interactive tables.';\n",
              "          element.innerHTML = '';\n",
              "          dataTable['output_type'] = 'display_data';\n",
              "          await google.colab.output.renderOutput(dataTable, element);\n",
              "          const docLink = document.createElement('div');\n",
              "          docLink.innerHTML = docLinkHtml;\n",
              "          element.appendChild(docLink);\n",
              "        }\n",
              "      </script>\n",
              "    </div>\n",
              "  </div>\n",
              "  "
            ],
            "text/plain": [
              "                                                   Text  ...                                     processed_text\n",
              "0     Kickers on my watchlist XIDE TIT SOQ PNK CPW B...  ...  ickers watchlist xide tit soq pnk cpw bpz aj t...\n",
              "1     user: AAP MOVIE. 55% return for the FEA/GEED i...  ...  ser aap movie 55 return feageed indicator 15 t...\n",
              "2     user I'd be afraid to short AMZN - they are lo...  ...  ser id afraid short amzn looking like nearmono...\n",
              "3                                     MNTA Over 12.00    ...                                           nta 1200\n",
              "4                                      OI  Over 21.37    ...                                               2137\n",
              "...                                                 ...  ...                                                ...\n",
              "5786  Industry body CII said #discoms are likely to ...  ...  ndustry body cii said discoms likely suffer ne...\n",
              "5787  #Gold prices slip below Rs 46,000 as #investor...  ...  gold price slip r 46000 investor book profit a...\n",
              "5788  Workers at Bajaj Auto have agreed to a 10% wag...  ...  orkers bajaj auto agreed 10 wage cut period ap...\n",
              "5789  #Sharemarket LIVE: Sensex off day’s high, up 6...  ...  sharemarket live sensex day high 600 point nif...\n",
              "5790  #Sensex, #Nifty climb off day's highs, still u...  ...  sensex nifty climb day high still key factor d...\n",
              "\n",
              "[5791 rows x 3 columns]"
            ]
          },
          "metadata": {},
          "execution_count": 19
        }
      ]
    },
    {
      "cell_type": "markdown",
      "source": [
        "# Create the (B.O.W) bag of word model"
      ],
      "metadata": {
        "id": "0JcofI1qmC0s"
      }
    },
    {
      "cell_type": "code",
      "source": [
        "cv = CountVectorizer(max_features = len(df))\n",
        "X = cv.fit_transform(df['processed_text']).toarray()\n",
        "y= df['Sentiment'].to_numpy()\n",
        "\n",
        "#X = torch.from_numpy(X).type(torch.LongTensor)\n",
        "#y = torch.from_numpy(y).type(torch.LongTensor)\n",
        "\n",
        "X = torch.from_numpy(X)\n",
        "y = torch.from_numpy(y)\n"
      ],
      "metadata": {
        "id": "BEpKARyfZUs-"
      },
      "execution_count": 20,
      "outputs": []
    },
    {
      "cell_type": "markdown",
      "metadata": {
        "id": "elder-scholarship",
        "papermill": {
          "duration": 0.081183,
          "end_time": "2021-04-17T08:43:33.846528",
          "exception": false,
          "start_time": "2021-04-17T08:43:33.765345",
          "status": "completed"
        },
        "tags": []
      },
      "source": [
        "## Split train and test"
      ]
    },
    {
      "cell_type": "markdown",
      "metadata": {
        "id": "fallen-gibraltar",
        "papermill": {
          "duration": 0.081915,
          "end_time": "2021-04-17T08:43:34.010048",
          "exception": false,
          "start_time": "2021-04-17T08:43:33.928133",
          "status": "completed"
        },
        "tags": []
      },
      "source": [
        "The Preprocessed Data is divided into 2 sets of data:\n",
        "\n",
        "* Training Data: The dataset upon which the model would be trained on. Contains 80% data.\n",
        "* Test Data: The dataset upon which the model would be tested against. Contains 20% data.\n",
        "\n",
        "\n"
      ]
    },
    {
      "cell_type": "code",
      "source": [
        "## Split the dataset into Training and Test set\n",
        "X_train, X_test, y_train, y_test = train_test_split(X, y , test_size=0.2, random_state = seed)\n",
        "\n",
        "X_train = X_train.type(torch.FloatTensor)\n",
        "X_test = X_test.type(torch.FloatTensor)\n",
        "y_train = y_train.type(torch.FloatTensor)\n",
        "y_test = y_test.type(torch.FloatTensor)"
      ],
      "metadata": {
        "id": "XOAKipE9n2hb"
      },
      "execution_count": 21,
      "outputs": []
    },
    {
      "cell_type": "code",
      "source": [
        "\n",
        "#BATCH_SIZE = 264\n",
        "\n",
        "device = torch.device('cuda' if torch.cuda.is_available() else 'cpu')\n",
        "\n"
      ],
      "metadata": {
        "id": "Z6ISSPHXr1Nr"
      },
      "execution_count": 22,
      "outputs": []
    },
    {
      "cell_type": "markdown",
      "metadata": {
        "id": "expressed-antenna",
        "papermill": {
          "duration": 0.08273,
          "end_time": "2021-04-17T08:43:34.573838",
          "exception": false,
          "start_time": "2021-04-17T08:43:34.491108",
          "status": "completed"
        },
        "tags": []
      },
      "source": [
        "# Model Building <a id=\"7\"></a>"
      ]
    },
    {
      "cell_type": "markdown",
      "source": [
        "**Neural Network**"
      ],
      "metadata": {
        "id": "TfF59Fw2oXst"
      }
    },
    {
      "cell_type": "code",
      "source": [
        "class NeuralNetwork(nn.Module):\n",
        "    def __init__(self, input_dim):\n",
        "        super(NeuralNetwork, self).__init__()\n",
        "        self.layer_1 = nn.Linear(input_dim, 512) \n",
        "        self.layer_2 = nn.Linear(512, 128) \n",
        "        self.layer_3 = nn.Linear(128, 1)   \n",
        "        self.relu = nn.ReLU()\n",
        "        self.sigmoid = nn.Sigmoid()\n",
        "        self.dropout = nn.Dropout()\n",
        "        # self.flatten = nn.Flatten()\n",
        "       \n",
        "     \n",
        "  \n",
        "        \n",
        "    def forward(self, x):\n",
        "\n",
        "        x = self.layer_1(x)\n",
        "        x = self.dropout(x)\n",
        "        x = self.relu(x)\n",
        "        x = self.layer_2(x)\n",
        "        x = self.dropout(x)\n",
        "        x = self.relu(x)\n",
        "        x = self.layer_3(x)\n",
        "        logits = self.sigmoid(x)\n",
        "        return logits"
      ],
      "metadata": {
        "id": "d6yywd_wZ582"
      },
      "execution_count": 23,
      "outputs": []
    },
    {
      "cell_type": "code",
      "source": [
        "model = NeuralNetwork(len(df))\n",
        "print(model)\n",
        "\n"
      ],
      "metadata": {
        "colab": {
          "base_uri": "https://localhost:8080/"
        },
        "id": "Y_hR0V6Ybxwd",
        "outputId": "c981c1cf-526e-47cd-b6af-6253c813862e"
      },
      "execution_count": 24,
      "outputs": [
        {
          "output_type": "stream",
          "name": "stdout",
          "text": [
            "NeuralNetwork(\n",
            "  (layer_1): Linear(in_features=5791, out_features=512, bias=True)\n",
            "  (layer_2): Linear(in_features=512, out_features=128, bias=True)\n",
            "  (layer_3): Linear(in_features=128, out_features=1, bias=True)\n",
            "  (relu): ReLU()\n",
            "  (sigmoid): Sigmoid()\n",
            "  (dropout): Dropout(p=0.5, inplace=False)\n",
            ")\n"
          ]
        }
      ]
    },
    {
      "cell_type": "markdown",
      "source": [
        "Optimization"
      ],
      "metadata": {
        "id": "LRkQo8pBqCc7"
      }
    },
    {
      "cell_type": "code",
      "source": [
        "\"\"\"\n",
        "loss_fn = nn.BCELoss()\n",
        "optimizer = torch.optim.SGD(model.parameters(), lr=1e-3)\n",
        "\n",
        "\"\"\"\n",
        "\n",
        "\n",
        "import torch.optim as optim\n",
        "optimizer = optim.Adam(model.parameters())\n",
        "\n",
        "loss_fn = nn.BCEWithLogitsLoss()\n",
        "model = model.to(device)\n",
        "loss_fn = loss_fn.to(device)\n",
        "\n"
      ],
      "metadata": {
        "id": "uH9iXuuKb_lU"
      },
      "execution_count": 25,
      "outputs": []
    },
    {
      "cell_type": "markdown",
      "source": [
        "We implement the function to calculate accuracy..."
      ],
      "metadata": {
        "id": "ArUL6oeYp91U"
      }
    },
    {
      "cell_type": "code",
      "source": [
        "def binary_accuracy(preds, y):\n",
        "    \"\"\"\n",
        "    Returns accuracy per batch, i.e. if you get 8/10 right, this returns 0.8, NOT 8\n",
        "    \"\"\"\n",
        "\n",
        "    #round predictions to the closest integer\n",
        "    rounded_preds = torch.round(torch.sigmoid(preds))\n",
        "    correct = (rounded_preds == y).float() #convert into float for division \n",
        "    acc = correct.sum() / len(correct)\n",
        "    return acc"
      ],
      "metadata": {
        "id": "WJvyCQFfp7JM"
      },
      "execution_count": 26,
      "outputs": []
    },
    {
      "cell_type": "code",
      "source": [
        "\n",
        "def trainModel(model, loss_fn, optimizer):\n",
        "    model.train()\n",
        "\n",
        "    batch = 256\n",
        "    size = X_test.shape[0]\n",
        "\n",
        "    loss = 0\n",
        "    acc = 0\n",
        "    \n",
        "\n",
        "    for i in range(X_train.shape[0]):\n",
        "      x, y = X_train[i], torch.tensor([y_train[i]], dtype=torch.float)\n",
        "    \n",
        "      # Compute prediction \n",
        "      pred = model(x)\n",
        "      loss += loss_fn(pred,y)\n",
        "      acc += binary_accuracy(pred,y)\n",
        "      \n",
        "      if i>0 and (i+1)%batch == 0:\n",
        "          # Backpropagation\n",
        "          optimizer.zero_grad()\n",
        "          loss.backward()\n",
        "          optimizer.step()\n",
        "         # print(f'Training Loss: {loss.item():.4f}', end=\"\\r\")\n",
        "         # print(f'\\tTraining Loss: {loss.item():.3f} | Training Acc: {acc.item()*100:.2f}%')\n",
        "          loss = 0\n",
        "          acc = 0\n",
        "    print()\n",
        "    return loss.item()/size, acc.item()/size\n",
        "\n",
        "\n"
      ],
      "metadata": {
        "id": "yOdkm0QxcBiu"
      },
      "execution_count": 27,
      "outputs": []
    },
    {
      "cell_type": "code",
      "source": [
        "from numpy.lib.function_base import append\n",
        "\n",
        "\n",
        "TP=[]\n",
        "TN=[]\n",
        "FP=[]\n",
        "FN=[]\n",
        "def testModel(model, loss_fn):\n",
        "    model.eval()\n",
        "\n",
        "    size = X_test.shape[0]\n",
        "\n",
        "    loss = 0\n",
        "    acc = 0\n",
        "\n",
        "\n",
        "\n",
        "    with torch.no_grad():\n",
        "      for i in range(X_test.shape[0]):\n",
        "        x, y = X_test[i], torch.tensor([y_test[i]], dtype=torch.float)\n",
        "    \n",
        "        # Compute prediction error\n",
        "        pred = model(x)\n",
        "        if( (torch.round(pred)) == 1 and y== 0) :\n",
        "           FP.append(1)\n",
        "        if( (torch.round(pred)) == 0 and y== 1) :\n",
        "           FN.append(1)\n",
        "        if( (torch.round(pred)) == 1 and y== 1) :\n",
        "           TP.append(1)\n",
        "        if( (torch.round(pred)) == 0 and y== 0) :\n",
        "           TP.append(1)         \n",
        "       \n",
        "            \n",
        "        loss += loss_fn(pred, y).item()\n",
        "        acc += binary_accuracy(pred,y).item()\n",
        "      \n",
        "    loss /= size\n",
        "    acc /= size\n",
        "    \n",
        "    #print(f'Testing Loss: {loss}')\n",
        "    #print(f'\\t Val. Loss: {loss:.3f} |  Val. Acc: {acc*100:.2f}%')\n",
        "  \n",
        "    return loss, acc  "
      ],
      "metadata": {
        "id": "eHL5jt3sdRj0"
      },
      "execution_count": 28,
      "outputs": []
    },
    {
      "cell_type": "markdown",
      "metadata": {
        "id": "at9dIR_jTwYU"
      },
      "source": [
        "And also create a nice function to tell us how long our epochs are taking."
      ]
    },
    {
      "cell_type": "code",
      "source": [
        "def epoch_time(start_time,end_time):\n",
        "  t = end_time - start_time\n",
        "  mins = int(t/60)\n",
        "  secs = t-mins*60\n",
        "\n",
        "  return mins,secs"
      ],
      "metadata": {
        "id": "m1AIGgKFygCJ"
      },
      "execution_count": 30,
      "outputs": []
    },
    {
      "cell_type": "code",
      "source": [
        "\n",
        "epochs = 1\n",
        "best_valid_loss = float('inf')\n",
        "\n",
        "# train for some number of epochs\n",
        "epoch_tr_loss,epoch_vl_loss = [],[]\n",
        "epoch_tr_acc,epoch_vl_acc = [],[]\n",
        "\n",
        "for epoch in range(epochs):\n",
        "    #print(f\"Epoch {t+1}\\n-------------------------------\")\n",
        "    start_time = time.time()\n",
        "\n",
        "    train_loss,train_acc = trainModel(model, loss_fn, optimizer)\n",
        "    valid_loss, valid_acc = testModel(model, loss_fn)\n",
        "\n",
        "    end_time = time.time()\n",
        "\n",
        "    epoch_mins, epoch_secs = epoch_time(start_time, end_time)\n",
        "    \n",
        "    if valid_loss < best_valid_loss:\n",
        "        best_valid_loss = valid_loss\n",
        "        torch.save(model.state_dict(), 'stock_sentiment.pt')\n",
        "    \n",
        "    print(f'Epoch: {epoch+1:02} | Epoch Time: {epoch_mins}m {epoch_secs}s')\n",
        "    print(f'\\tTrain Loss: {train_loss:.3f} | Train Acc: {train_acc*100:.2f}%')\n",
        "    print(f'\\t Val. Loss: {valid_loss:.3f} |  Val. Acc: {valid_acc*100:.2f}%')\n",
        "    \n",
        "    epoch_tr_loss.append(train_loss)\n",
        "    epoch_vl_loss.append(valid_loss)\n",
        "    epoch_tr_acc.append(train_acc)\n",
        "    epoch_vl_acc.append(valid_acc)\n",
        "  \n",
        "    \n",
        "print(\"Done!\")\n",
        "\n",
        "\n"
      ],
      "metadata": {
        "colab": {
          "base_uri": "https://localhost:8080/"
        },
        "id": "_AdcUUScdjG3",
        "outputId": "bed4e259-cfa4-4ffd-c44e-7c08a28dfbda"
      },
      "execution_count": 32,
      "outputs": [
        {
          "output_type": "stream",
          "name": "stdout",
          "text": [
            "\n",
            "Epoch: 01 | Epoch Time: 0m 37.08873629570007s\n",
            "\tTrain Loss: 0.008 | Train Acc: 1.81%\n",
            "\t Val. Loss: 0.562 |  Val. Acc: 64.45%\n",
            "Done!\n"
          ]
        }
      ]
    },
    {
      "cell_type": "code",
      "source": [
        "TP=len(TP)\n",
        "TN=len(TN)\n",
        "FP=len(FP)\n",
        "FN=len(FN)"
      ],
      "metadata": {
        "id": "WD_gfqs4rTPe"
      },
      "execution_count": 33,
      "outputs": []
    },
    {
      "cell_type": "code",
      "source": [
        "acc=(TP+TN)/(TP+TN+FN+FP)"
      ],
      "metadata": {
        "id": "_qhc-GZgDvcC"
      },
      "execution_count": 34,
      "outputs": []
    },
    {
      "cell_type": "code",
      "source": [
        "acc"
      ],
      "metadata": {
        "colab": {
          "base_uri": "https://localhost:8080/"
        },
        "id": "s9E-ZZpSp0xU",
        "outputId": "b0d89a76-bb3b-438c-b757-bc88da4d0d86"
      },
      "execution_count": 35,
      "outputs": [
        {
          "output_type": "execute_result",
          "data": {
            "text/plain": [
              "0.7732959447799828"
            ]
          },
          "metadata": {},
          "execution_count": 35
        }
      ]
    },
    {
      "cell_type": "code",
      "source": [
        "prec=TP/(TP+FP)"
      ],
      "metadata": {
        "id": "FnDVeQ2Brq-O"
      },
      "execution_count": 36,
      "outputs": []
    },
    {
      "cell_type": "code",
      "source": [
        "prec"
      ],
      "metadata": {
        "colab": {
          "base_uri": "https://localhost:8080/"
        },
        "id": "34Ufi6thrxwd",
        "outputId": "3cdfce88-3c2a-4d40-952a-2754312c57b4"
      },
      "execution_count": 37,
      "outputs": [
        {
          "output_type": "execute_result",
          "data": {
            "text/plain": [
              "0.8749237339841367"
            ]
          },
          "metadata": {},
          "execution_count": 37
        }
      ]
    },
    {
      "cell_type": "code",
      "source": [
        "rec=TP/(TP+FN)"
      ],
      "metadata": {
        "id": "SUiM83bUr1de"
      },
      "execution_count": 38,
      "outputs": []
    },
    {
      "cell_type": "code",
      "source": [
        "rec"
      ],
      "metadata": {
        "colab": {
          "base_uri": "https://localhost:8080/"
        },
        "id": "VkVSkqBrsDxu",
        "outputId": "038c506a-acf5-443e-ccd5-53f04bc87c35"
      },
      "execution_count": 39,
      "outputs": [
        {
          "output_type": "execute_result",
          "data": {
            "text/plain": [
              "0.869407057111677"
            ]
          },
          "metadata": {},
          "execution_count": 39
        }
      ]
    },
    {
      "cell_type": "code",
      "source": [
        "f1score=2*prec*rec/(prec+rec)"
      ],
      "metadata": {
        "id": "Wn9ZyjyHsGBu"
      },
      "execution_count": 40,
      "outputs": []
    },
    {
      "cell_type": "code",
      "source": [
        "f1score"
      ],
      "metadata": {
        "id": "YcjlyDuisO_-",
        "outputId": "3acf95db-4f91-47e6-af6f-7b337c9da6cf",
        "colab": {
          "base_uri": "https://localhost:8080/"
        }
      },
      "execution_count": 41,
      "outputs": [
        {
          "output_type": "execute_result",
          "data": {
            "text/plain": [
              "0.8721566719377205"
            ]
          },
          "metadata": {},
          "execution_count": 41
        }
      ]
    }
  ]
}